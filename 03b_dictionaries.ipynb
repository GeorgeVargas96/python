{
 "cells": [
  {
   "cell_type": "code",
   "execution_count": 1,
   "metadata": {},
   "outputs": [],
   "source": [
    "f1_teams = {\n",
    "    \"Leclerc\": \"Ferrari\",\n",
    "    \"Sainz\": \"Ferrari\",\n",
    "    \"Verstappen\": \"Redbull\",\n",
    "    \"Perez\": \"Redbull\",\n",
    "    \"Hamilton\": \"Mercedes\",\n",
    "    \"Russel\": \"Mercedes\",\n",
    "    \"Norris\": \"McLaren\",\n",
    "    \"Ricciardo\": \"McLaren\"\n",
    "}\n",
    "\n",
    "f1_more_teams = {\n",
    "    \"Alonso\": \"Alpine\",\n",
    "    \"Ocon\": \"Alpine\",\n",
    "    \"Zhou\": \"Alfa Romeo\",\n",
    "    \"Bottas\": \"Alfa Romeo\",\n",
    "    \"Schumacher\": \"Haas\",\n",
    "    \"Magnussen\": \"Haas\",\n",
    "    \"Tsunoda\": \"AlphaTauri\",\n",
    "    \"Gasly\": \"AlphaTauri\",\n",
    "    \"Vettel\": \"Aston Martin\",\n",
    "    \"Stroll\": \"Aston Martin\",\n",
    "    \"Albon\": \"Williams\",\n",
    "    \"Latifi\": \"Williams\"\n",
    "}\n"
   ]
  },
  {
   "cell_type": "code",
   "execution_count": 2,
   "metadata": {},
   "outputs": [
    {
     "data": {
      "text/plain": [
       "dict"
      ]
     },
     "execution_count": 2,
     "metadata": {},
     "output_type": "execute_result"
    }
   ],
   "source": [
    "type(f1_teams)\n"
   ]
  },
  {
   "cell_type": "code",
   "execution_count": 8,
   "metadata": {},
   "outputs": [
    {
     "name": "stdout",
     "output_type": "stream",
     "text": [
      "sdsdf\n",
      "{'Leclerc': 'Ferrari', 'Sainz': 'Ferrari', 'Verstappen': 'Redbull', 'Perez': 'Redbull', 'Hamilton': 'Mercedes', 'Russel': 'Mercedes', 'Norris': 'McLaren', 'Ricciardo': 'McLaren'}\n"
     ]
    }
   ],
   "source": [
    "#f1_teams['asd']\n",
    "print(f1_teams.get(\"sdf\",\"sdsdf\"))\n",
    "print(f1_teams)\n"
   ]
  },
  {
   "cell_type": "code",
   "execution_count": 9,
   "metadata": {},
   "outputs": [],
   "source": [
    "#add an entry\n",
    "\n",
    "f1_teams[\"Raikkonen\"]=\"Ferrari\""
   ]
  },
  {
   "cell_type": "code",
   "execution_count": 15,
   "metadata": {},
   "outputs": [
    {
     "name": "stdout",
     "output_type": "stream",
     "text": [
      "added Kimi {'Leclerc': 'Ferrari', 'Sainz': 'Ferrari', 'Verstappen': 'Redbull', 'Perez': 'Redbull', 'Hamilton': 'Mercedes', 'Russel': 'Mercedes', 'Norris': 'McLaren', 'Ricciardo': 'McLaren', 'Raikkonen': 'Alfa asdRomeo'} \n",
      "\n"
     ]
    }
   ],
   "source": [
    "print(\"added Kimi\", f1_teams ,\"\\n\" )"
   ]
  },
  {
   "cell_type": "code",
   "execution_count": 18,
   "metadata": {},
   "outputs": [
    {
     "name": "stdout",
     "output_type": "stream",
     "text": [
      "{'Leclerc': 'Ferrari', 'Sainz': 'Ferrari', 'Verstappen': 'Redbull', 'Perez': 'Redbull', 'Hamilton': 'Mercedes', 'Russel': 'Mercedes', 'Norris': 'McLaren', 'Ricciardo': 'McLaren', 'Raikkonen': 'Alfa asdRomeo'}\n",
      "{'Leclerc': 'Ferrari', 'Sainz': 'Ferrari', 'Verstappen': 'Redbull', 'Perez': 'Redbull', 'Hamilton': 'Mercedes', 'Russel': 'Mercedes', 'Norris': 'McLaren', 'Ricciardo': 'McLaren', 'Raikkonen': 'Alfa Romeo'}\n"
     ]
    }
   ],
   "source": [
    "#update an entry\n",
    "\n",
    "f1_teams.update({\"Raikkonen\":\"Alfa asdRomeo\"})\n",
    "print(f1_teams)\n",
    "\n",
    "#Another update\n",
    "\n",
    "f1_teams[\"Raikkonen\"]=\"Alfa Romeo\"\n",
    "\n",
    "print(f1_teams)\n",
    "\n",
    "\n"
   ]
  },
  {
   "cell_type": "code",
   "execution_count": 17,
   "metadata": {},
   "outputs": [
    {
     "name": "stdout",
     "output_type": "stream",
     "text": [
      "{'Leclerc': 'Ferrari', 'Sainz': 'Ferrari', 'Verstappen': 'Redbull', 'Perez': 'Redbull', 'Hamilton': 'Mercedes', 'Russel': 'Mercedes', 'Norris': 'McLaren', 'Ricciardo': 'McLaren'}\n"
     ]
    }
   ],
   "source": [
    "#delete an entry\n",
    "\n",
    "del f1_teams[\"Raikkonen\"]\n",
    "\n",
    "print(f1_teams)"
   ]
  },
  {
   "cell_type": "code",
   "execution_count": 19,
   "metadata": {},
   "outputs": [
    {
     "name": "stdout",
     "output_type": "stream",
     "text": [
      "{'Perez': 'Redbull', 'Hamilton': 'Mercedes', 'Ricciardo': 'McLaren', 'Leclerc': 'Ferrari', 'Norris': 'McLaren', 'Verstappen': 'Redbull', 'Sainz': 'Ferrari', 'Russel': 'Mercedes'}\n"
     ]
    }
   ],
   "source": [
    "#another delete\n",
    "\n",
    "f1_teams={\n",
    "    k:f1_teams[k] for k in f1_teams.keys() - {\"Raikkonen\"}\n",
    "}\n",
    "\n",
    "print(f1_teams)\n",
    "\n"
   ]
  },
  {
   "cell_type": "code",
   "execution_count": 22,
   "metadata": {},
   "outputs": [],
   "source": [
    "#Exercise\n",
    "# combine the two dictionaries f1_teams and f1_more_teams\n",
    "\n",
    "dict_1=f1_teams|f1_more_teams"
   ]
  },
  {
   "cell_type": "code",
   "execution_count": 23,
   "metadata": {},
   "outputs": [],
   "source": [
    "dict_2={**f1_teams,**f1_more_teams}"
   ]
  },
  {
   "cell_type": "code",
   "execution_count": 2,
   "metadata": {},
   "outputs": [],
   "source": [
    "dict_3=f1_teams.update(f1_more_teams)"
   ]
  },
  {
   "cell_type": "code",
   "execution_count": 25,
   "metadata": {},
   "outputs": [
    {
     "name": "stdout",
     "output_type": "stream",
     "text": [
      "{'Perez': 'Redbull', 'Hamilton': 'Mercedes', 'Ricciardo': 'McLaren', 'Leclerc': 'Ferrari', 'Norris': 'McLaren', 'Verstappen': 'Redbull', 'Sainz': 'Ferrari', 'Russel': 'Mercedes', 'Alonso': 'Alpine', 'Ocon': 'Alpine', 'Zhou': 'Alfa Romeo', 'Bottas': 'Alfa Romeo', 'Schumacher': 'Haas', 'Magnussen': 'Haas', 'Tsunoda': 'AlphaTauri', 'Gasly': 'AlphaTauri', 'Vettel': 'Aston Martin', 'Stroll': 'Aston Martin', 'Albon': 'Williams', 'Latifi': 'Williams'} \n",
      " --------------------\n",
      "{'Perez': 'Redbull', 'Hamilton': 'Mercedes', 'Ricciardo': 'McLaren', 'Leclerc': 'Ferrari', 'Norris': 'McLaren', 'Verstappen': 'Redbull', 'Sainz': 'Ferrari', 'Russel': 'Mercedes', 'Alonso': 'Alpine', 'Ocon': 'Alpine', 'Zhou': 'Alfa Romeo', 'Bottas': 'Alfa Romeo', 'Schumacher': 'Haas', 'Magnussen': 'Haas', 'Tsunoda': 'AlphaTauri', 'Gasly': 'AlphaTauri', 'Vettel': 'Aston Martin', 'Stroll': 'Aston Martin', 'Albon': 'Williams', 'Latifi': 'Williams'} \n",
      " --------------------\n",
      "None \n",
      " --------------------\n",
      "{'Perez': 'Redbull', 'Hamilton': 'Mercedes', 'Ricciardo': 'McLaren', 'Leclerc': 'Ferrari', 'Norris': 'McLaren', 'Verstappen': 'Redbull', 'Sainz': 'Ferrari', 'Russel': 'Mercedes', 'Alonso': 'Alpine', 'Ocon': 'Alpine', 'Zhou': 'Alfa Romeo', 'Bottas': 'Alfa Romeo', 'Schumacher': 'Haas', 'Magnussen': 'Haas', 'Tsunoda': 'AlphaTauri', 'Gasly': 'AlphaTauri', 'Vettel': 'Aston Martin', 'Stroll': 'Aston Martin', 'Albon': 'Williams', 'Latifi': 'Williams'}\n"
     ]
    }
   ],
   "source": [
    "print(dict_1,\"\\n\",\"--------------------\")\n",
    "print(dict_2,\"\\n\",\"--------------------\")\n",
    "print(dict_3,\"\\n\",\"--------------------\")\n",
    "print(f1_teams)"
   ]
  },
  {
   "cell_type": "code",
   "execution_count": 26,
   "metadata": {},
   "outputs": [
    {
     "name": "stdout",
     "output_type": "stream",
     "text": [
      "Ricciardo\n",
      "Norris\n"
     ]
    }
   ],
   "source": [
    "# iterate through f1_teams and print only the McLaren drivers (just the drivers)\n",
    "#v1\n",
    "for k,v in f1_teams.items():\n",
    "    if v == \"McLaren\":\n",
    "        print(k)"
   ]
  },
  {
   "cell_type": "code",
   "execution_count": 27,
   "metadata": {},
   "outputs": [
    {
     "name": "stdout",
     "output_type": "stream",
     "text": [
      "['Ricciardo', 'Norris']\n"
     ]
    }
   ],
   "source": [
    "drivers_McLaren=[ k for k,v in f1_teams.items() if v==\"McLaren\" ]\n",
    "print(drivers_McLaren)\n"
   ]
  },
  {
   "cell_type": "code",
   "execution_count": 3,
   "metadata": {},
   "outputs": [
    {
     "name": "stdout",
     "output_type": "stream",
     "text": [
      "{'Leclerc': 'Ferrari', 'Sainz': 'Ferrari', 'Verstappen': 'Redbull', 'Perez': 'Redbull', 'Hamilton': 'Mercedes', 'Russel': 'Mercedes', 'Norris': 'McLaren', 'Ricciardo': 'McLaren', 'Alonso': 'Alpine', 'Ocon': 'Alpine', 'Zhou': 'Alfa Romeo', 'Bottas': 'Alfa Romeo', 'Schumacher': 'Haas', 'Magnussen': 'Haas', 'Tsunoda': 'AlphaTauri', 'Gasly': 'AlphaTauri', 'Vettel': 'Aston Martin', 'Stroll': 'Aston Martin', 'Albon': 'Williams', 'Latifi': 'Williams'}\n"
     ]
    }
   ],
   "source": [
    "print(f1_teams)"
   ]
  },
  {
   "cell_type": "code",
   "execution_count": 12,
   "metadata": {},
   "outputs": [],
   "source": [
    "# given the list of driver numbers, assign each driver their corresponding number\n",
    "f1_driver_numbers = [16, 55, 1, 11, 44, 63, 4, 3, 14, 31, 24, 77, 47, 20, 22, 10, 5, 18, 23, 6]\n",
    "\n",
    "new_teams={\n",
    "    k: v for k, v in zip(f1_driver_numbers,f1_teams.items())\n",
    "}"
   ]
  },
  {
   "cell_type": "code",
   "execution_count": 18,
   "metadata": {},
   "outputs": [
    {
     "name": "stdout",
     "output_type": "stream",
     "text": [
      "{16: ('Leclerc', 'Ferrari'), 55: ('Sainz', 'Ferrari'), 1: ('Verstappen', 'Redbull'), 11: ('Perez', 'Redbull'), 44: ('Hamilton', 'Mercedes'), 63: ('Russel', 'Mercedes'), 4: ('Norris', 'McLaren'), 3: ('Ricciardo', 'McLaren'), 14: ('Alonso', 'Alpine'), 31: ('Ocon', 'Alpine'), 24: ('Zhou', 'Alfa Romeo'), 77: ('Bottas', 'Alfa Romeo'), 47: ('Schumacher', 'Haas'), 20: ('Magnussen', 'Haas'), 22: ('Tsunoda', 'AlphaTauri'), 10: ('Gasly', 'AlphaTauri'), 5: ('Vettel', 'Aston Martin'), 18: ('Stroll', 'Aston Martin'), 23: ('Albon', 'Williams'), 6: ('Latifi', 'Williams')}\n"
     ]
    }
   ],
   "source": [
    "print(new_teams)"
   ]
  },
  {
   "cell_type": "code",
   "execution_count": 35,
   "metadata": {},
   "outputs": [
    {
     "name": "stdout",
     "output_type": "stream",
     "text": [
      "<generator object <genexpr> at 0x000001BCF2B63300>\n"
     ]
    }
   ],
   "source": [
    "gen=(e for e in f1_teams.items())\n",
    "print(gen)\n",
    "new_teams2={\n",
    "    f1_driver_numbers[i]:next(gen) for i in range(len(f1_driver_numbers))\n",
    "}"
   ]
  },
  {
   "cell_type": "code",
   "execution_count": 36,
   "metadata": {},
   "outputs": [
    {
     "name": "stdout",
     "output_type": "stream",
     "text": [
      "{16: ('Leclerc', 'Ferrari'), 55: ('Sainz', 'Ferrari'), 1: ('Verstappen', 'Redbull'), 11: ('Perez', 'Redbull'), 44: ('Hamilton', 'Mercedes'), 63: ('Russel', 'Mercedes'), 4: ('Norris', 'McLaren'), 3: ('Ricciardo', 'McLaren'), 14: ('Alonso', 'Alpine'), 31: ('Ocon', 'Alpine'), 24: ('Zhou', 'Alfa Romeo'), 77: ('Bottas', 'Alfa Romeo'), 47: ('Schumacher', 'Haas'), 20: ('Magnussen', 'Haas'), 22: ('Tsunoda', 'AlphaTauri'), 10: ('Gasly', 'AlphaTauri'), 5: ('Vettel', 'Aston Martin'), 18: ('Stroll', 'Aston Martin'), 23: ('Albon', 'Williams'), 6: ('Latifi', 'Williams')}\n"
     ]
    }
   ],
   "source": [
    "print(new_teams2)\n",
    "\n"
   ]
  },
  {
   "cell_type": "code",
   "execution_count": 29,
   "metadata": {},
   "outputs": [
    {
     "name": "stdout",
     "output_type": "stream",
     "text": [
      "{16: ('Leclerc', 'Ferrari'), 55: ('Sainz', 'Ferrari'), 1: ('Verstappen', 'Redbull'), 11: ('Perez', 'Redbull'), 44: ('Hamilton', 'Mercedes'), 63: ('Russel', 'Mercedes'), 4: ('Norris', 'McLaren'), 3: ('Ricciardo', 'McLaren'), 14: ('Alonso', 'Alpine'), 31: ('Ocon', 'Alpine'), 24: ('Zhou', 'Alfa Romeo'), 77: ('Bottas', 'Alfa Romeo'), 47: ('Schumacher', 'Haas'), 20: ('Magnussen', 'Haas'), 22: ('Tsunoda', 'AlphaTauri'), 10: ('Gasly', 'AlphaTauri'), 5: ('Vettel', 'Aston Martin'), 18: ('Stroll', 'Aston Martin'), 23: ('Albon', 'Williams'), 6: ('Latifi', 'Williams')}\n"
     ]
    }
   ],
   "source": [
    "f1_teams_iter=iter(f1_teams.items())\n",
    "new_teams3={ \n",
    "    f1_driver_numbers[i]:next(f1_teams_iter) for i in range(len(f1_driver_numbers))\n",
    "    \n",
    "}\n",
    "print(new_teams3)"
   ]
  },
  {
   "cell_type": "code",
   "execution_count": 76,
   "metadata": {},
   "outputs": [
    {
     "name": "stdout",
     "output_type": "stream",
     "text": [
      "a: {0: [1, 2, 3, 4, 34]} \n",
      "b: {0: [1, 2, 3, 4, 34]}\n"
     ]
    }
   ],
   "source": [
    "# shallow copy\n",
    "a = {0:[1,2,3]}\n",
    "b=a.copy()\n",
    "a[0].append(4)\n",
    "b[0].append(34)\n",
    "\n",
    "print(\"a:\", a, \"\\nb:\", b)"
   ]
  },
  {
   "cell_type": "code",
   "execution_count": 43,
   "metadata": {},
   "outputs": [
    {
     "name": "stdout",
     "output_type": "stream",
     "text": [
      "{0: [1, 2, 3, 4, 34, 6, 6]}\n",
      "{0: [1, 2, 3, 4, 34, 6, 6]}\n",
      "{0: [1, 2, 3, 4, 34, 6, 6, 6]}\n"
     ]
    }
   ],
   "source": [
    "#deepcopy\n",
    "import copy\n",
    "c =copy.deepcopy(a)\n",
    "print(c)\n",
    "a[0].append(6)\n",
    "print(c)\n",
    "print(a)"
   ]
  },
  {
   "cell_type": "code",
   "execution_count": 77,
   "metadata": {},
   "outputs": [],
   "source": [
    "d= {}\n",
    "d={**copy.deepcopy(a)}"
   ]
  },
  {
   "cell_type": "code",
   "execution_count": 78,
   "metadata": {},
   "outputs": [
    {
     "name": "stdout",
     "output_type": "stream",
     "text": [
      "{0: [1, 2, 3, 4, 34]}\n"
     ]
    }
   ],
   "source": [
    "a[0].append(3)\n",
    "print(d)"
   ]
  }
 ],
 "metadata": {
  "kernelspec": {
   "display_name": "Python 3.10.5 64-bit",
   "language": "python",
   "name": "python3"
  },
  "language_info": {
   "codemirror_mode": {
    "name": "ipython",
    "version": 3
   },
   "file_extension": ".py",
   "mimetype": "text/x-python",
   "name": "python",
   "nbconvert_exporter": "python",
   "pygments_lexer": "ipython3",
   "version": "3.10.5"
  },
  "orig_nbformat": 4,
  "vscode": {
   "interpreter": {
    "hash": "b348351ff64ef7b8239b01d02f7050e1a14691eae76471a4c9b3066032a9fe46"
   }
  }
 },
 "nbformat": 4,
 "nbformat_minor": 2
}
