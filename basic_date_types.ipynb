{
 "cells": [
  {
   "cell_type": "code",
   "execution_count": 2,
   "metadata": {},
   "outputs": [
    {
     "name": "stdout",
     "output_type": "stream",
     "text": [
      "x_int = 10, y_int = 10\n",
      "type of x_int: <class 'int'>\n",
      "type of y_int: <class 'int'>\n"
     ]
    }
   ],
   "source": [
    "\n",
    "# assign x a value and then assign x to y\n",
    "x_int = 10\n",
    "y_int = x_int\n",
    "x_initial_identity = id(x_int)\n",
    "y_initial_identity = id(y_int)\n",
    "\n",
    "# let's have a look at the value and type\n",
    "print(\"x_int = {}, y_int = {}\".format(x_int, y_int))\n",
    "print(\"type of x_int: {}\".format(type(x_int)))\n",
    "print(\"type of y_int: {}\".format(type(y_int)))\n"
   ]
  },
  {
   "cell_type": "code",
   "execution_count": null,
   "metadata": {},
   "outputs": [],
   "source": [
    "# let's check the identity\n",
    "print(\"x_initial_identity = {}\".format(x_initial_identity))\n",
    "print(\"y_initial_identity = {}\".format(y_initial_identity))\n",
    "print(\"are they the same? {}\".format(x_initial_identity == y_initial_identity))\n"
   ]
  },
  {
   "cell_type": "code",
   "execution_count": 4,
   "metadata": {},
   "outputs": [
    {
     "name": "stdout",
     "output_type": "stream",
     "text": [
      "x_int is y_int? True\n",
      "does x_int have the same value as y_int? True\n"
     ]
    }
   ],
   "source": [
    "# let's see what is the relation between x and y\n",
    "print(\"x_int is y_int? {}\".format(x_int is y_int))\n",
    "print(\"does x_int have the same value as y_int? {}\".format(x_int == y_int))\n"
   ]
  },
  {
   "cell_type": "code",
   "execution_count": 5,
   "metadata": {},
   "outputs": [
    {
     "name": "stdout",
     "output_type": "stream",
     "text": [
      "assigning new value to x\n",
      "x_int = 11, y_int = 10\n",
      "does x_int have the same value as y_int? False\n",
      "x_initial_identity; 1762974958096\n",
      "x_final_identity: 1762974958128\n"
     ]
    }
   ],
   "source": [
    "# what happens when we change the value of x?\n",
    "print(\"assigning new value to x\")\n",
    "x_int = 11\n",
    "x_final_identity = id(x_int)\n",
    "print(\"x_int = {}, y_int = {}\".format(x_int, y_int))\n",
    "print(\"does x_int have the same value as y_int? {}\".format(x_int == y_int))\n",
    "print(\"x_initial_identity; {}\\nx_final_identity: {}\".format(x_initial_identity, x_final_identity))\n",
    "\n"
   ]
  },
  {
   "cell_type": "code",
   "execution_count": 6,
   "metadata": {},
   "outputs": [
    {
     "name": "stdout",
     "output_type": "stream",
     "text": [
      "sdfsdfsdf \t asd\n",
      "sdfsdfds \\t asd\n"
     ]
    }
   ],
   "source": [
    "str1=\"sdfsdfsdf \\t asd\"\n",
    "str2=(r\"sdfsdfds \\t asd\")\n",
    "\n",
    "print(str1)\n",
    "print(str2)\n"
   ]
  },
  {
   "cell_type": "code",
   "execution_count": 12,
   "metadata": {},
   "outputs": [
    {
     "name": "stdout",
     "output_type": "stream",
     "text": [
      "Peter Pan is a terrible boxer.\n",
      "Whenever he throws a punch, it Neverlands\n",
      "\n",
      "I was wondering why the frisbee kept getting bigger and bigger.\n",
      "But then it hit me.\n",
      "                Ba-dum tss.\n",
      "\n"
     ]
    }
   ],
   "source": [
    "one_liner = \"Peter Pan is a terrible boxer.\\nWhenever he throws a punch, it Neverlands\"\n",
    "print(one_liner)\n",
    "\n",
    "\n",
    "multi_liner = \"\"\"\n",
    "I was wondering why the frisbee kept getting bigger and bigger.\n",
    "But then it hit me.\n",
    "                Ba-dum tss.\n",
    "\"\"\"\n",
    "print(multi_liner)\n"
   ]
  },
  {
   "cell_type": "code",
   "execution_count": 16,
   "metadata": {},
   "outputs": [
    {
     "name": "stdout",
     "output_type": "stream",
     "text": [
      " Neverlands\n"
     ]
    }
   ],
   "source": [
    "# get the last word of that one-liner\n",
    "\n",
    "#varianta 1\n",
    "\n",
    "for c in range(len(one_liner)):\n",
    "    if one_liner[c] ==\" \" and one_liner[c+1] !=\" \":\n",
    "        space=c\n",
    "\n",
    "print(one_liner[space:])\n",
    "\n",
    "one_liner=\"\"\n"
   ]
  },
  {
   "cell_type": "code",
   "execution_count": 22,
   "metadata": {},
   "outputs": [
    {
     "name": "stdout",
     "output_type": "stream",
     "text": [
      "sd\n"
     ]
    }
   ],
   "source": [
    "#varianta 2\n",
    "last_space_at=one_liner.rfind(\" \")\n",
    "\n",
    "if not one_liner:\n",
    "    print(\"Empty string\")\n",
    "elif last_space_at!=-1:\n",
    "    last_word_starts_at=last_space_at+1\n",
    "    last_word=one_liner[last_word_starts_at:]\n",
    "    print(last_word)\n",
    "else:\n",
    "    print(one_liner)\n",
    "\n"
   ]
  },
  {
   "cell_type": "code",
   "execution_count": 32,
   "metadata": {},
   "outputs": [
    {
     "name": "stdout",
     "output_type": "stream",
     "text": [
      "0\n",
      "x evaluated to False\n",
      "False\n",
      "True\n",
      "False\n",
      "True\n",
      "False\n"
     ]
    }
   ],
   "source": [
    "x = 0\n",
    "print(x)\n",
    "if not x:\n",
    "    print('x evaluated to False')\n",
    "\n",
    "# 0 evaluate at false\n",
    "print(bool(0))\n",
    "# other numbers evaluate to true\n",
    "print(bool(21))\n",
    "#empty string false\n",
    "print(bool(\"\"))\n",
    "#all string except empty true\n",
    "print(bool(\"asd\"))\n",
    "print(bool(None))"
   ]
  }
 ],
 "metadata": {
  "kernelspec": {
   "display_name": "Python 3.10.5 64-bit",
   "language": "python",
   "name": "python3"
  },
  "language_info": {
   "codemirror_mode": {
    "name": "ipython",
    "version": 3
   },
   "file_extension": ".py",
   "mimetype": "text/x-python",
   "name": "python",
   "nbconvert_exporter": "python",
   "pygments_lexer": "ipython3",
   "version": "3.10.5"
  },
  "orig_nbformat": 4,
  "vscode": {
   "interpreter": {
    "hash": "b348351ff64ef7b8239b01d02f7050e1a14691eae76471a4c9b3066032a9fe46"
   }
  }
 },
 "nbformat": 4,
 "nbformat_minor": 2
}
