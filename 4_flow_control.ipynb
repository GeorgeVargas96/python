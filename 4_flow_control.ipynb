{
 "cells": [
  {
   "cell_type": "code",
   "execution_count": 1,
   "metadata": {},
   "outputs": [
    {
     "name": "stdout",
     "output_type": "stream",
     "text": [
      "[1, 3, 5]\n"
     ]
    }
   ],
   "source": [
    "#Exercise 1\n",
    "\n",
    "#Print odd numbers of the following list: [1,2,3,4,5] --> 1, 3, 5\n",
    "\n",
    "li=[1,2,3,4,5]\n",
    "print(li[::2])\n",
    "\n",
    "\n"
   ]
  },
  {
   "cell_type": "code",
   "execution_count": 2,
   "metadata": {},
   "outputs": [
    {
     "name": "stdout",
     "output_type": "stream",
     "text": [
      "[1, 3, 5]\n"
     ]
    }
   ],
   "source": [
    "\n",
    "def odd_numbers(a_list):\n",
    "\n",
    "    odd_numbers_list=[]\n",
    "    for i in a_list:\n",
    "        if i%2==1 :\n",
    "            odd_numbers_list.append(i) \n",
    "    \n",
    "    return odd_numbers_list\n",
    "\n",
    "\n",
    "print(odd_numbers(li))\n",
    "\n"
   ]
  },
  {
   "cell_type": "code",
   "execution_count": 6,
   "metadata": {},
   "outputs": [
    {
     "name": "stdout",
     "output_type": "stream",
     "text": [
      "['c', 'b', 'a']\n"
     ]
    }
   ],
   "source": [
    "#Exercise 2\n",
    "#Print string elems in reversed order: ['a', 'b', 2, 1, 'c'] --> 'c', 'b', 'a'\n",
    "\n",
    "\n",
    "some_str=['a', 'b', 2, 1, 'c']\n",
    "\n",
    "li_ex2=[ el for el in reversed(some_str) if type(el)==type(\"sfds\") ]\n",
    "\n",
    "print(li_ex2)\n"
   ]
  },
  {
   "cell_type": "code",
   "execution_count": 10,
   "metadata": {},
   "outputs": [
    {
     "name": "stdout",
     "output_type": "stream",
     "text": [
      "c\n",
      "b\n",
      "a\n"
     ]
    }
   ],
   "source": [
    "\n",
    "for i in range(len(some_str)-1,-1,-1):\n",
    "    if type(some_str[i]) == type(\"s\"):\n",
    "        print(some_str[i])\n"
   ]
  },
  {
   "cell_type": "code",
   "execution_count": 21,
   "metadata": {},
   "outputs": [
    {
     "name": "stdout",
     "output_type": "stream",
     "text": [
      "24\n",
      "120\n",
      "1\n",
      "1\n"
     ]
    }
   ],
   "source": [
    "#Exercise 3\n",
    "#Print factorial of a given number.\n",
    "\n",
    "def factorial(number):\n",
    "    total=1\n",
    "    if number==0:\n",
    "        return total\n",
    "    else:\n",
    "        for i in range(1,number+1):\n",
    "            total*=i\n",
    "    return total\n",
    "\n",
    "print(factorial(4))\n",
    "a=5\n",
    "print(factorial(a))\n",
    "\n",
    "print(factorial(0))\n",
    "print(factorial(1))\n"
   ]
  },
  {
   "cell_type": "code",
   "execution_count": null,
   "metadata": {},
   "outputs": [],
   "source": [
    "    \n",
    "#Exercise 4\n",
    "#Print the total number of digits in a number: 1111 --> 4"
   ]
  },
  {
   "cell_type": "code",
   "execution_count": 40,
   "metadata": {},
   "outputs": [
    {
     "name": "stdout",
     "output_type": "stream",
     "text": [
      "[54, 99, 18, 'All good.']\n",
      "[4, 54, 96, 99, 81, 18, 34, 19, 'sdfsdfsdf']\n"
     ]
    }
   ],
   "source": [
    "#Exercise 5\n",
    "\"\"\"\n",
    "Print the elements that satisfy the following criteria:\n",
    "a. number must be divisible by 9\n",
    "b. if it is equal to 81, do not print it, go to the next one \n",
    "c. if last element of the list is greater or equal to 100, end the loop\n",
    "c. if all elems are smaller that 100, print \"All good.\"\n",
    "\"\"\"\n",
    "some_list=[4,54,96,99,81,18,34,19]\n",
    "def some_function(lis):\n",
    "    new_list=[]\n",
    "    smaller=True\n",
    "    for i in lis:\n",
    "        if i == 81:\n",
    "            continue\n",
    "        if i%9==0 :\n",
    "            new_list.append(i)\n",
    "        if i>=100:\n",
    "            smaller=False\n",
    "    if smaller==True:\n",
    "        new_list.append(\"All good.\")\n",
    "    lis.append(\"sdfsdfsdf\")\n",
    "    return new_list\n",
    "\n",
    "print(some_function(some_list))\n",
    "print(some_list)"
   ]
  },
  {
   "cell_type": "code",
   "execution_count": 48,
   "metadata": {},
   "outputs": [
    {
     "name": "stdout",
     "output_type": "stream",
     "text": [
      "5 4 3 2 1 \n",
      "4 3 2 1 \n",
      "3 2 1 \n",
      "2 1 \n",
      "1 \n"
     ]
    }
   ],
   "source": [
    "#Exercise 6\n",
    "\"\"\"\n",
    "Print the following pattern:\n",
    "5 4 3 2 1 \n",
    "4 3 2 1 \n",
    "3 2 1 \n",
    "2 1 \n",
    "1\n",
    "\"\"\"\n",
    "\n",
    "for i in range(5,0,-1):\n",
    "    for j in range(i,0,-1):\n",
    "        print(j, end=\" \")\n",
    "    print()\n",
    "\n"
   ]
  },
  {
   "cell_type": "code",
   "execution_count": 70,
   "metadata": {},
   "outputs": [
    {
     "name": "stdout",
     "output_type": "stream",
     "text": [
      "[{'Id': '3242', 'Name': 'Chad', 'Age': 29}, {'Id': '435456', 'Name': 'Paul', 'Age': 46}, {'Id': '9865', 'Name': 'Jim', 'Age': 43}]\n"
     ]
    }
   ],
   "source": [
    "#Exercise 7\n",
    "\n",
    "\"\"\"\n",
    "Given below input, write Python code to generate the below output:\n",
    "\n",
    "input = {\n",
    "        \"Prison\": \"NoName\",\n",
    "        \"Address\": \"Unknown\",\n",
    "        \"Inmates\": {\n",
    "            \"3242\": {\n",
    "                \"Name\": \"Chad\",\n",
    "                \"Age\": 29\n",
    "            },\n",
    "            \"435456\": {\n",
    "                \"Name\": \"Paul\",\n",
    "                \"Age\": 46\n",
    "            },\n",
    "            \"9865\": {\n",
    "                \"Name\": \"Jim\",\n",
    "                \"Age\": 43\n",
    "            }\n",
    "        }\n",
    "    }\n",
    "\n",
    "\n",
    "output = {\n",
    "        \"Prison\": \"NoName\",\n",
    "        \"Address\": \"Unknown\",\n",
    "        \"Inmates\": [\n",
    "            {\n",
    "                \"id\": \"3242\",\n",
    "                \"Name\": \"Chad\",\n",
    "                \"Age\": 29\n",
    "            },\n",
    "            {\n",
    "                \"id\": \"435456\",\n",
    "                \"Name\": \"Paul\",\n",
    "                \"Age\": 46\n",
    "            },\n",
    "            {\n",
    "                \"id\": \"9865\",\n",
    "                \"Name\": \"Jim\",\n",
    "                \"Age\": 43\n",
    "            }\n",
    "      ]\n",
    "}\n",
    "\"\"\"\n",
    "\n",
    "\n",
    "input = {\n",
    "        \"Prison\": \"NoName\",\n",
    "        \"Address\": \"Unknown\",\n",
    "        \"Inmates\": {\n",
    "            \"3242\": {\n",
    "                \"Name\": \"Chad\",\n",
    "                \"Age\": 29\n",
    "            },\n",
    "            \"435456\": {\n",
    "                \"Name\": \"Paul\",\n",
    "                \"Age\": 46\n",
    "            },\n",
    "            \"9865\": {\n",
    "                \"Name\": \"Jim\",\n",
    "                \"Age\": 43\n",
    "            }\n",
    "        }\n",
    "    }\n",
    "\n",
    "new_list=[]\n",
    "\n",
    "for k,v in input[\"Inmates\"].items():\n",
    "    temp_dict={\"Id\": k}\n",
    "    for key, val in v.items():\n",
    "        #print(items)\n",
    "        temp_dict.update({key:val})\n",
    "    new_list.append(temp_dict)\n",
    "\n",
    "print(new_list)\n"
   ]
  },
  {
   "cell_type": "code",
   "execution_count": 98,
   "metadata": {},
   "outputs": [
    {
     "name": "stdout",
     "output_type": "stream",
     "text": [
      "[{'id': '3242'}, {'id': '435456'}, {'id': '9865'}]\n",
      "[{'id': '3242', 'Name': 'Chad', 'Age': 29}, {'id': '435456', 'Name': 'Paul', 'Age': 46}, {'id': '9865', 'Name': 'Jim', 'Age': 43}]\n"
     ]
    }
   ],
   "source": [
    "from itertools import chain\n",
    "\n",
    "\n",
    "new_list=[{\"id\":k} for k in input[\"Inmates\"].keys()]\n",
    "print(new_list)\n",
    "new_list=[{**new_list[i],**input[\"Inmates\"].get(new_list[i].get(\"id\"))} for i in range(len(new_list))]\n",
    "\n",
    "print(new_list)\n",
    "\n",
    "\n"
   ]
  },
  {
   "cell_type": "code",
   "execution_count": 99,
   "metadata": {},
   "outputs": [
    {
     "name": "stdout",
     "output_type": "stream",
     "text": [
      "None\n",
      "{'id': '3242', 'Name': 'Chad', 'Age': 29}\n"
     ]
    }
   ],
   "source": [
    "\n",
    "\n",
    "print(new_list[0].update(input[\"Inmates\"].get(new_list[0].get(\"id\"))))\n",
    "print(new_list[0])"
   ]
  }
 ],
 "metadata": {
  "kernelspec": {
   "display_name": "Python 3.10.5 64-bit",
   "language": "python",
   "name": "python3"
  },
  "language_info": {
   "codemirror_mode": {
    "name": "ipython",
    "version": 3
   },
   "file_extension": ".py",
   "mimetype": "text/x-python",
   "name": "python",
   "nbconvert_exporter": "python",
   "pygments_lexer": "ipython3",
   "version": "3.10.5"
  },
  "orig_nbformat": 4,
  "vscode": {
   "interpreter": {
    "hash": "b348351ff64ef7b8239b01d02f7050e1a14691eae76471a4c9b3066032a9fe46"
   }
  }
 },
 "nbformat": 4,
 "nbformat_minor": 2
}
