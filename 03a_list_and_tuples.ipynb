{
 "cells": [
  {
   "cell_type": "code",
   "execution_count": 1,
   "metadata": {},
   "outputs": [
    {
     "name": "stdout",
     "output_type": "stream",
     "text": [
      "['Leclerc', 'Verstappen']\n",
      "<class 'list'>\n"
     ]
    }
   ],
   "source": [
    "f1_drivers = [\"Leclerc\",\"Verstappen\"]\n",
    "\n",
    "print(f1_drivers)\n",
    "\n",
    "print(type(f1_drivers))"
   ]
  },
  {
   "cell_type": "code",
   "execution_count": 2,
   "metadata": {},
   "outputs": [
    {
     "name": "stdout",
     "output_type": "stream",
     "text": [
      "['Leclerc', 'Verstappen', 'Hamilton', 'Norris', 'Alonso', 'Bottas', 'Gasly', 'Vettel', 'Schumacher', 'Albon', 'Hulkenberg']\n"
     ]
    }
   ],
   "source": [
    "#Adding more elements to a list\n",
    "\n",
    "\n",
    "# using the append method - add one element\n",
    "f1_drivers.append(\"Hamilton\")\n",
    "f1_drivers.append(\"Norris\")\n",
    "\n",
    "# using the + operator - add multiple elements\n",
    "\n",
    "f1_drivers=f1_drivers+ [\"Alonso\",\"Bottas\"]\n",
    "\n",
    "\n",
    "# using the extend method - add another list to the list\n",
    "\n",
    "f1_drivers.extend([\"Gasly\"])\n",
    "f1_drivers.extend([\"Vettel\",\"Schumacher\",\"Albon\",\"Hulkenberg\"])\n",
    "\n",
    "print(f1_drivers)\n",
    "\n"
   ]
  },
  {
   "cell_type": "code",
   "execution_count": 3,
   "metadata": {},
   "outputs": [
    {
     "name": "stdout",
     "output_type": "stream",
     "text": [
      "remove Hulkenberg\n",
      "['Leclerc', 'Verstappen', 'Hamilton', 'Norris', 'Alonso', 'Bottas', 'Gasly', 'Vettel', 'Schumacher', 'Albon']\n"
     ]
    }
   ],
   "source": [
    "# we should probably remove Hulkenberg\n",
    "\n",
    "# remove the last entry\n",
    "\n",
    "last_entry=f1_drivers.pop()\n",
    "\n",
    "print(f\"remove {last_entry}\")\n",
    "print(f1_drivers)"
   ]
  },
  {
   "cell_type": "code",
   "execution_count": 4,
   "metadata": {},
   "outputs": [
    {
     "name": "stdout",
     "output_type": "stream",
     "text": [
      "Just add Hulkenberg back\n",
      "['Leclerc', 'Verstappen', 'Hamilton', 'Norris', 'Alonso', 'Bottas', 'Gasly', 'Vettel', 'Schumacher', 'Albon', 'Hulkenberg']\n"
     ]
    }
   ],
   "source": [
    "\n",
    "# other ways to remove items from a list\n",
    "\n",
    "# add Hulkenberg back\n",
    "\n",
    "f1_drivers+=[\"Hulkenberg\"]\n",
    "\n",
    "print(\"Just add {} back\".format(last_entry))\n",
    "print(f1_drivers)"
   ]
  },
  {
   "cell_type": "code",
   "execution_count": 5,
   "metadata": {},
   "outputs": [
    {
     "name": "stdout",
     "output_type": "stream",
     "text": [
      "just remove Hulkenberg again, dont add Hulkenberg again\n",
      "['Leclerc', 'Verstappen', 'Hamilton', 'Norris', 'Alonso', 'Bottas', 'Gasly', 'Vettel', 'Schumacher', 'Albon']\n"
     ]
    }
   ],
   "source": [
    "#so we can remove him again\n",
    "\n",
    "print(\"just remove {0} again, dont add {0} again\".format(last_entry))\n",
    "\n",
    "f1_drivers.remove(last_entry)\n",
    "print(f1_drivers)\n"
   ]
  },
  {
   "cell_type": "code",
   "execution_count": 6,
   "metadata": {},
   "outputs": [
    {
     "name": "stdout",
     "output_type": "stream",
     "text": [
      "Ignore the last five drivers ['Leclerc', 'Verstappen', 'Hamilton', 'Norris', 'Alonso']\n"
     ]
    }
   ],
   "source": [
    "# Ignore  the last five drivers\n",
    "\n",
    "print(\"Ignore the last five drivers {}\".format(f1_drivers[:-5]))"
   ]
  },
  {
   "cell_type": "code",
   "execution_count": 7,
   "metadata": {},
   "outputs": [
    {
     "name": "stdout",
     "output_type": "stream",
     "text": [
      "10\n",
      "last 5 drivers are ['Bottas', 'Gasly', 'Vettel', 'Schumacher', 'Albon']\n"
     ]
    }
   ],
   "source": [
    "#Print the last 5 drivers\n",
    "print(len(f1_drivers))\n",
    "\n",
    "print(f\"last 5 drivers are {f1_drivers[len(f1_drivers)-5:]}\")\n",
    "\n"
   ]
  },
  {
   "cell_type": "code",
   "execution_count": 8,
   "metadata": {},
   "outputs": [
    {
     "name": "stdout",
     "output_type": "stream",
     "text": [
      "Revert the order ['Albon', 'Schumacher', 'Vettel', 'Gasly', 'Bottas', 'Alonso', 'Norris', 'Hamilton', 'Verstappen', 'Leclerc']\n"
     ]
    }
   ],
   "source": [
    "#revert list order\n",
    "print(\"Revert the order {}\".format(f1_drivers[::-1]))\n",
    "\n"
   ]
  },
  {
   "cell_type": "code",
   "execution_count": 9,
   "metadata": {},
   "outputs": [
    {
     "name": "stdout",
     "output_type": "stream",
     "text": [
      "Every other drivers are: ['Leclerc', 'Hamilton', 'Alonso', 'Gasly', 'Schumacher']\n"
     ]
    }
   ],
   "source": [
    "#Print every other driver\n",
    "\n",
    "print(\"Every other drivers are: {}\".format(f1_drivers[::2]))"
   ]
  },
  {
   "cell_type": "code",
   "execution_count": 10,
   "metadata": {},
   "outputs": [],
   "source": [
    "#What if we want to map the drivers with their team\n",
    "\n",
    "#create a list of teams\n",
    "\n",
    "f1_teams=[]\n",
    "\n",
    "f1_teams.extend([\"Ferrari\", \"Redbull\", \"Mercedes\", \"McLaren\", \"Alpine\", \"Alfa Romeo\", \"Alpha Tauri\", \"Aston Martin\", \"Haas\", \"Williams\"])\n"
   ]
  },
  {
   "cell_type": "code",
   "execution_count": 11,
   "metadata": {},
   "outputs": [
    {
     "name": "stdout",
     "output_type": "stream",
     "text": [
      "['Ferrari', 'Redbull', 'Mercedes', 'McLaren', 'Alpine', 'Alfa Romeo', 'Alpha Tauri', 'Aston Martin', 'Haas', 'Williams']\n"
     ]
    }
   ],
   "source": [
    "print(f1_teams)\n"
   ]
  },
  {
   "cell_type": "code",
   "execution_count": 12,
   "metadata": {},
   "outputs": [
    {
     "name": "stdout",
     "output_type": "stream",
     "text": [
      "(0, 'Ferrari')\n",
      "(1, 'Redbull')\n",
      "(2, 'Mercedes')\n",
      "(3, 'McLaren')\n",
      "(4, 'Alpine')\n",
      "(5, 'Alfa Romeo')\n",
      "(6, 'Alpha Tauri')\n",
      "(7, 'Aston Martin')\n",
      "(8, 'Haas')\n",
      "(9, 'Williams')\n"
     ]
    }
   ],
   "source": [
    "\n",
    "for i in enumerate(f1_teams):\n",
    "    print(i)"
   ]
  },
  {
   "cell_type": "code",
   "execution_count": 13,
   "metadata": {},
   "outputs": [
    {
     "name": "stdout",
     "output_type": "stream",
     "text": [
      "{'Leclerc': 'Ferrari', 'Verstappen': 'Redbull', 'Hamilton': 'Mercedes', 'Norris': 'McLaren', 'Alonso': 'Alpine', 'Bottas': 'Alfa Romeo', 'Gasly': 'Alpha Tauri', 'Vettel': 'Aston Martin', 'Schumacher': 'Haas', 'Albon': 'Williams'}\n"
     ]
    }
   ],
   "source": [
    "dict2={f1_drivers[i]:f1_teams[i] for i in range(len(f1_teams))   }\n",
    "print(dict2)"
   ]
  },
  {
   "cell_type": "code",
   "execution_count": 14,
   "metadata": {},
   "outputs": [
    {
     "name": "stdout",
     "output_type": "stream",
     "text": [
      "{'Leclerc': 'Ferrari', 'Verstappen': 'Redbull', 'Hamilton': 'Mercedes', 'Norris': 'McLaren', 'Alonso': 'Alpine', 'Bottas': 'Alfa Romeo', 'Gasly': 'Alpha Tauri', 'Vettel': 'Aston Martin', 'Schumacher': 'Haas', 'Albon': 'Williams'}\n"
     ]
    }
   ],
   "source": [
    "# Create a dictionary with drivers as key and team as values\n",
    "dict1={}\n",
    "for i in range(len(f1_teams)):\n",
    "    dict1[f1_drivers[i]]=f1_teams[i]\n",
    "print(dict1)"
   ]
  },
  {
   "cell_type": "code",
   "execution_count": 15,
   "metadata": {},
   "outputs": [],
   "source": [
    "# let's import the framework; using an alias\n",
    "import pandas as pd"
   ]
  },
  {
   "cell_type": "code",
   "execution_count": 16,
   "metadata": {},
   "outputs": [
    {
     "name": "stdout",
     "output_type": "stream",
     "text": [
      "  TEAM_DRIVER     TEAM_NAME\n",
      "0     Leclerc       Ferrari\n",
      "1  Verstappen       Redbull\n",
      "2    Hamilton      Mercedes\n",
      "3      Norris       McLaren\n",
      "4      Alonso        Alpine\n",
      "5      Bottas    Alfa Romeo\n",
      "6       Gasly   Alpha Tauri\n",
      "7      Vettel  Aston Martin\n",
      "8  Schumacher          Haas\n",
      "9       Albon      Williams\n"
     ]
    }
   ],
   "source": [
    "# create an empty dataframe, with columns for driver and team\n",
    "df = pd.DataFrame(columns=['TEAM_DRIVER', 'TEAM_NAME'])\n",
    "\n",
    "df['TEAM_DRIVER'],df['TEAM_NAME']=f1_drivers,f1_teams\n",
    "\n",
    "print(df)"
   ]
  },
  {
   "cell_type": "code",
   "execution_count": 17,
   "metadata": {},
   "outputs": [
    {
     "name": "stdout",
     "output_type": "stream",
     "text": [
      "<class 'map'>\n",
      "<map object at 0x0000023B586434C0>\n",
      "TEAM(TEAM_DRIVER='Leclerc', TEAM_NAME='Ferrari')\n",
      "TEAM(TEAM_DRIVER='Verstappen', TEAM_NAME='Redbull')\n",
      "TEAM(TEAM_DRIVER='Hamilton', TEAM_NAME='Mercedes')\n",
      "TEAM(TEAM_DRIVER='Norris', TEAM_NAME='McLaren')\n",
      "TEAM(TEAM_DRIVER='Alonso', TEAM_NAME='Alpine')\n",
      "TEAM(TEAM_DRIVER='Bottas', TEAM_NAME='Alfa Romeo')\n",
      "TEAM(TEAM_DRIVER='Gasly', TEAM_NAME='Alpha Tauri')\n",
      "TEAM(TEAM_DRIVER='Vettel', TEAM_NAME='Aston Martin')\n",
      "TEAM(TEAM_DRIVER='Schumacher', TEAM_NAME='Haas')\n",
      "TEAM(TEAM_DRIVER='Albon', TEAM_NAME='Williams')\n"
     ]
    }
   ],
   "source": [
    "f1_tuples = df.itertuples(index=False, name=\"TEAM\")\n",
    "\n",
    "print(type(f1_tuples)) # an iterator\n",
    "\n",
    "print(f1_tuples)\n",
    "\n",
    "# in order to get the values, we must call the next() method on the iterator\n",
    "while (t := next(f1_tuples, False)):\n",
    "    print(t)\n",
    "    "
   ]
  },
  {
   "cell_type": "code",
   "execution_count": 18,
   "metadata": {},
   "outputs": [
    {
     "name": "stdout",
     "output_type": "stream",
     "text": [
      "[('Leclerc', 'Ferrari'), ('Verstappen', 'Redbull'), ('Hamilton', 'Mercedes'), ('Norris', 'McLaren'), ('Alonso', 'Alpine'), ('Bottas', 'Alfa Romeo'), ('Gasly', 'Alpha Tauri'), ('Vettel', 'Aston Martin'), ('Schumacher', 'Haas'), ('Albon', 'Williams')]\n"
     ]
    }
   ],
   "source": [
    "# what if I want to store these tuples somewhere?\n",
    "# typles no longer named for this example\n",
    "\n",
    "competition_teams = list(df.itertuples(index=False, name=None))\n",
    "print(competition_teams)"
   ]
  },
  {
   "cell_type": "code",
   "execution_count": 19,
   "metadata": {},
   "outputs": [
    {
     "name": "stdout",
     "output_type": "stream",
     "text": [
      "[('Leclerc', 'Ferrari', 16), ('Verstappen', 'Redbull', 1), ('Hamilton', 'Mercedes', 44), ('Norris', 'McLaren', 4), ('Alonso', 'Alpine', 14), ('Bottas', 'Alfa Romeo', 77), ('Gasly', 'Alpha Tauri', 10), ('Vettel', 'Aston Martin', 5), ('Schumacher', 'Haas', 47), ('Albon', 'Williams', 23)]\n"
     ]
    }
   ],
   "source": [
    "#let's try to add the driver number for each tuple by unpacking\n",
    "updated_list=[]\n",
    "driver_numbers = [16, 1, 44, 4, 14, 77, 10, 5, 47, 23]\n",
    "\n",
    "for teams in competition_teams:\n",
    "    index=competition_teams.index(teams)\n",
    "    driver_number=driver_numbers[index]\n",
    "    updated_list.append((*teams,driver_number))\n",
    "\n",
    "competition_teams=updated_list\n",
    "print(competition_teams)\n"
   ]
  },
  {
   "cell_type": "code",
   "execution_count": 39,
   "metadata": {},
   "outputs": [
    {
     "name": "stdout",
     "output_type": "stream",
     "text": [
      "[('Leclerc', 'Ferrari', 16), ('Verstappen', 'Redbull', 1), ('Hamilton', 'Mercedes', 44), ('Norris', 'McLaren', 4), ('Alonso', 'Alpine', 14), ('Bottas', 'Alfa Romeo', 77), ('Gasly', 'Alpha Tauri', 10), ('Vettel', 'Aston Martin', 5), ('Schumacher', 'Haas', 47), ('Albon', 'Williams', 23)]\n",
      "[('Leclerc', 'Ferrari', 16, 16), ('Verstappen', 'Redbull', 1, 1), ('Hamilton', 'Mercedes', 44, 44), ('Norris', 'McLaren', 4, 4), ('Alonso', 'Alpine', 14, 14), ('Bottas', 'Alfa Romeo', 77, 77), ('Gasly', 'Alpha Tauri', 10, 10), ('Vettel', 'Aston Martin', 5, 5), ('Schumacher', 'Haas', 47, 47), ('Albon', 'Williams', 23, 23)]\n"
     ]
    }
   ],
   "source": [
    "\n",
    "print(competition_teams)\n",
    "driver_numbers = [16, 1, 44, 4, 14, 77, 10, 5, 47, 23]\n",
    "\n",
    "new_list=[ (*competition_teams[i],driver_numbers[i]) for i in range(len(competition_teams))]\n",
    "\n",
    "competition_teams=new_list\n",
    "print(competition_teams)"
   ]
  },
  {
   "cell_type": "code",
   "execution_count": 22,
   "metadata": {},
   "outputs": [
    {
     "name": "stdout",
     "output_type": "stream",
     "text": [
      "[('Leclerc', 'Ferrari', 16), ('Verstappen', 'Redbull', 1), ('Hamilton', 'Mercedes', 44), ('Norris', 'McLaren', 4), ('Alonso', 'Alpine', 14), ('Bottas', 'Alfa Romeo', 77), ('Gasly', 'Alpha Tauri', 10), ('Vettel', 'Aston Martin', 5), ('Schumacher', 'Haas', 47), ('Albon', 'Williams', 23)]\n",
      "[('Leclerc', 'Ferrari'), ('Verstappen', 'Redbull'), ('Hamilton', 'Mercedes'), ('Norris', 'McLaren'), ('Alonso', 'Alpine')]\n"
     ]
    }
   ],
   "source": [
    "print(competition_teams)\n",
    "\n",
    "first_5=[ (el[0],el[1]) for el in competition_teams[:5]]\n",
    "\n",
    "print(first_5)"
   ]
  },
  {
   "cell_type": "code",
   "execution_count": 24,
   "metadata": {},
   "outputs": [
    {
     "name": "stdout",
     "output_type": "stream",
     "text": [
      "Leclerc\n",
      "Ferrari\n"
     ]
    }
   ],
   "source": [
    "(a_driver, a_team, a_number)=competition_teams[0]\n",
    "\n",
    "print(a_driver)\n",
    "\n",
    "a_driver, a_team=a_team, a_driver\n",
    "print(a_driver)"
   ]
  }
 ],
 "metadata": {
  "kernelspec": {
   "display_name": "Python 3.10.5 64-bit",
   "language": "python",
   "name": "python3"
  },
  "language_info": {
   "codemirror_mode": {
    "name": "ipython",
    "version": 3
   },
   "file_extension": ".py",
   "mimetype": "text/x-python",
   "name": "python",
   "nbconvert_exporter": "python",
   "pygments_lexer": "ipython3",
   "version": "3.10.5"
  },
  "orig_nbformat": 4,
  "vscode": {
   "interpreter": {
    "hash": "b348351ff64ef7b8239b01d02f7050e1a14691eae76471a4c9b3066032a9fe46"
   }
  }
 },
 "nbformat": 4,
 "nbformat_minor": 2
}
