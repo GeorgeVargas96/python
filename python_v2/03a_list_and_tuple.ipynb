{
 "cells": [
  {
   "cell_type": "code",
   "execution_count": 2,
   "metadata": {},
   "outputs": [
    {
     "name": "stdout",
     "output_type": "stream",
     "text": [
      "Verstappen\n",
      "<class 'list'>\n"
     ]
    }
   ],
   "source": [
    "f1_drivers = [\"Leclerc\", \"Verstappen\"]\n",
    "print(f1_drivers[1])\n",
    "\n",
    "print(type(f1_drivers))"
   ]
  },
  {
   "cell_type": "code",
   "execution_count": 3,
   "metadata": {},
   "outputs": [
    {
     "name": "stdout",
     "output_type": "stream",
     "text": [
      "['Leclerc', 'Verstappen', 'Hamilton', 'Norris', 'Alonso', 'Bottas', 'Gasly', 'Vettel', 'Schumacher', 'Albon', 'Hulkenberg']\n"
     ]
    }
   ],
   "source": [
    "# using the append method - add one element\n",
    "f1_drivers.append(\"Hamilton\")\n",
    "f1_drivers.append(\"Norris\")\n",
    "\n",
    "# using the + operator - add multiple elements\n",
    "f1_drivers = f1_drivers + [\"Alonso\", \"Bottas\"]\n",
    "\n",
    "# using the extend method - add another list to the list\n",
    "f1_drivers.extend([\"Gasly\"])\n",
    "f1_drivers.extend([\"Vettel\", \"Schumacher\", \"Albon\", \"Hulkenberg\"])\n",
    "\n",
    "print(f1_drivers)"
   ]
  },
  {
   "cell_type": "code",
   "execution_count": 4,
   "metadata": {},
   "outputs": [
    {
     "name": "stdout",
     "output_type": "stream",
     "text": [
      "removed Hulkenberg.\n",
      "['Leclerc', 'Verstappen', 'Hamilton', 'Norris', 'Alonso', 'Bottas', 'Gasly', 'Vettel', 'Schumacher', 'Albon']\n",
      "added Hulkenberg.\n",
      "['Leclerc', 'Verstappen', 'Hamilton', 'Norris', 'Alonso', 'Bottas', 'Gasly', 'Vettel', 'Schumacher', 'Albon', 'Hulkenberg']\n",
      "removed Hulkenberg again. won't add Hulkenberg back.\n",
      "['Leclerc', 'Verstappen', 'Hamilton', 'Norris', 'Alonso', 'Bottas', 'Gasly', 'Vettel', 'Schumacher', 'Albon']\n"
     ]
    }
   ],
   "source": [
    "# we should probably remove Hulkenberg\n",
    "\n",
    "# remove the last entry\n",
    "last_entry = f1_drivers.pop()\n",
    "\n",
    "print(\"removed {}.\".format(last_entry))\n",
    "print(f1_drivers)\n",
    "\n",
    "# other ways to remove items from a list\n",
    "\n",
    "# add Hulkenberg back\n",
    "f1_drivers.append(\"Hulkenberg\")\n",
    "print(\"added {}.\".format(last_entry))\n",
    "print(f1_drivers)\n",
    "\n",
    "# so we can remove him again\n",
    "print(\"removed {0} again. won't add {0} back.\".format(last_entry))\n",
    "f1_drivers.remove(last_entry)\n",
    "\n",
    "print(f1_drivers)"
   ]
  },
  {
   "cell_type": "code",
   "execution_count": 5,
   "metadata": {},
   "outputs": [
    {
     "name": "stdout",
     "output_type": "stream",
     "text": [
      "['Hamilton', 'Alonso', 'Gasly', 'Schumacher']\n"
     ]
    }
   ],
   "source": [
    "print(f1_drivers[2::2])"
   ]
  }
 ],
 "metadata": {
  "kernelspec": {
   "display_name": "Python 3.10.5 64-bit",
   "language": "python",
   "name": "python3"
  },
  "language_info": {
   "codemirror_mode": {
    "name": "ipython",
    "version": 3
   },
   "file_extension": ".py",
   "mimetype": "text/x-python",
   "name": "python",
   "nbconvert_exporter": "python",
   "pygments_lexer": "ipython3",
   "version": "3.10.5"
  },
  "orig_nbformat": 4,
  "vscode": {
   "interpreter": {
    "hash": "b348351ff64ef7b8239b01d02f7050e1a14691eae76471a4c9b3066032a9fe46"
   }
  }
 },
 "nbformat": 4,
 "nbformat_minor": 2
}
