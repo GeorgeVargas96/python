{
 "cells": [
  {
   "cell_type": "code",
   "execution_count": 33,
   "metadata": {},
   "outputs": [
    {
     "name": "stdout",
     "output_type": "stream",
     "text": [
      "\n",
      "\n",
      "I was wondering why the frisbee kept getting bigger and bigger.\n",
      "But then it hit me.\n",
      "                Ba-dum tss.\n",
      "\n"
     ]
    }
   ],
   "source": [
    "one_liner = \"\"\n",
    "print(one_liner)\n",
    "\n",
    "multi_liner = \"\"\"\n",
    "I was wondering why the frisbee kept getting bigger and bigger.\n",
    "But then it hit me.\n",
    "                Ba-dum tss.\n",
    "\"\"\"\n",
    "print(multi_liner)"
   ]
  },
  {
   "cell_type": "code",
   "execution_count": 25,
   "metadata": {},
   "outputs": [
    {
     "name": "stdout",
     "output_type": "stream",
     "text": [
      "Peter Pan is a terrible boxer.\n",
      "Whenever he throws a punch, it Neverlands\n",
      "['Peter', 'Pan', 'is', 'a', 'terrible', 'boxer.\\nWhenever', 'he', 'throws', 'a', 'punch,', 'it', 'Neverlands']\n",
      "Neverlands\n"
     ]
    }
   ],
   "source": [
    "# get the last word of that one-liner\n",
    "#v1\n",
    "print(one_liner)\n",
    "a_list=one_liner.split(\" \")\n",
    "print(a_list)\n",
    "print(a_list[len(a_list)-1])"
   ]
  },
  {
   "cell_type": "code",
   "execution_count": 34,
   "metadata": {},
   "outputs": [
    {
     "name": "stdout",
     "output_type": "stream",
     "text": [
      "String is empty\n",
      "Neverlands \n"
     ]
    }
   ],
   "source": [
    "#v2\n",
    "\n",
    "last_space_at=one_liner.strip(\" \").rfind(\" \")\n",
    "\n",
    "if(last_space_at!=-1):\n",
    "    word_starts_at=last_space_at+1\n",
    "\n",
    "    word=one_liner[word_starts_at:]\n",
    "elif one_liner != \"\":\n",
    "    print(one_liner)\n",
    "else:\n",
    "    print(\"String is empty\")\n",
    "    \n",
    "\n",
    "print(word)\n"
   ]
  },
  {
   "cell_type": "code",
   "execution_count": null,
   "metadata": {},
   "outputs": [],
   "source": [
    "statement = \"\"\"\n",
    "SELECT * FROM my_table WHERE date >= $$start_date$$;\n",
    "\"\"\"\n",
    "start_date = \"'2022-07-01 20:22:07'\"\n",
    "replaced_statement = statement.replace(\"$$start_date$$\",start_date)\n",
    "print(replaced_statement)"
   ]
  },
  {
   "cell_type": "code",
   "execution_count": 39,
   "metadata": {},
   "outputs": [
    {
     "name": "stdout",
     "output_type": "stream",
     "text": [
      "['This is a string that needs to be split', 'based in the comma character', 'so it should result in three strings.']\n"
     ]
    }
   ],
   "source": [
    "# split the following string based on the comma\n",
    "s = \"\"\"\n",
    "This is a string that needs to be split,\n",
    "based in the comma character,\n",
    "so it should result in three strings.\n",
    "\"\"\"\n",
    "\n",
    "split_strings = [value.strip(\"\\n\") for value in s.split(\",\")]\n",
    "print(split_strings)"
   ]
  },
  {
   "cell_type": "code",
   "execution_count": 41,
   "metadata": {},
   "outputs": [
    {
     "name": "stdout",
     "output_type": "stream",
     "text": [
      "0\n",
      "x evaluated to False\n"
     ]
    }
   ],
   "source": [
    "# an empty (None) variable evaluates to False\n",
    "x = int()\n",
    "print(x)\n",
    "if not x:\n",
    "    print('x evaluated to False')"
   ]
  },
  {
   "cell_type": "code",
   "execution_count": 46,
   "metadata": {},
   "outputs": [
    {
     "name": "stdout",
     "output_type": "stream",
     "text": [
      "\n",
      "x evaluated to False\n"
     ]
    },
    {
     "data": {
      "text/plain": [
       "True"
      ]
     },
     "execution_count": 46,
     "metadata": {},
     "output_type": "execute_result"
    }
   ],
   "source": [
    "x = \"\"\n",
    "print(x)\n",
    "if not x:\n",
    "    print('x evaluated to False')\n",
    "bool(1)"
   ]
  }
 ],
 "metadata": {
  "kernelspec": {
   "display_name": "Python 3.10.5 64-bit",
   "language": "python",
   "name": "python3"
  },
  "language_info": {
   "codemirror_mode": {
    "name": "ipython",
    "version": 3
   },
   "file_extension": ".py",
   "mimetype": "text/x-python",
   "name": "python",
   "nbconvert_exporter": "python",
   "pygments_lexer": "ipython3",
   "version": "3.10.5"
  },
  "orig_nbformat": 4,
  "vscode": {
   "interpreter": {
    "hash": "b348351ff64ef7b8239b01d02f7050e1a14691eae76471a4c9b3066032a9fe46"
   }
  }
 },
 "nbformat": 4,
 "nbformat_minor": 2
}
